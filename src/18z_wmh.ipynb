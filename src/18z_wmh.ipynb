{
 "cells": [
  {
   "cell_type": "markdown",
   "metadata": {},
   "source": [
    "# Współczesne metody heurystyczne\n",
    "## PB14 - Wykorzystanie algorytmu ewolucyjnego do doboru parametrów SVM do zadania klasyfikacji\n",
    "### Agnieszka Czaplicka, Bartosz Sowul"
   ]
  },
  {
   "cell_type": "markdown",
   "metadata": {},
   "source": []
  },
  {
   "cell_type": "markdown",
   "metadata": {},
   "source": [
    "# test: instalacja potrzebnych modułów"
   ]
  },
  {
   "cell_type": "code",
   "execution_count": 9,
   "metadata": {},
   "outputs": [
    {
     "name": "stdout",
     "output_type": "stream",
     "text": [
      "Requirement already satisfied: pathos in /media/bs/data/projects/0_moje_portfolio/eiti/eiti/lib/python3.6/site-packages (0.2.2.1)\n",
      "Requirement already satisfied: dill>=0.2.8.2 in /media/bs/data/projects/0_moje_portfolio/eiti/eiti/lib/python3.6/site-packages (from pathos) (0.2.8.2)\n",
      "Requirement already satisfied: multiprocess>=0.70.6.1 in /media/bs/data/projects/0_moje_portfolio/eiti/eiti/lib/python3.6/site-packages (from pathos) (0.70.6.1)\n",
      "Requirement already satisfied: ppft>=1.6.4.8 in /media/bs/data/projects/0_moje_portfolio/eiti/eiti/lib/python3.6/site-packages (from pathos) (1.6.4.8)\n",
      "Requirement already satisfied: pox>=0.2.4 in /media/bs/data/projects/0_moje_portfolio/eiti/eiti/lib/python3.6/site-packages (from pathos) (0.2.4)\n",
      "Requirement already satisfied: six>=1.7.3 in /media/bs/data/projects/0_moje_portfolio/eiti/eiti/lib/python3.6/site-packages (from ppft>=1.6.4.8->pathos) (1.11.0)\n",
      "Requirement already satisfied: tqdm in /media/bs/data/projects/0_moje_portfolio/eiti/eiti/lib/python3.6/site-packages (4.19.1.post1)\n",
      "Requirement already satisfied: matplotlib in /media/bs/data/projects/0_moje_portfolio/eiti/eiti/lib/python3.6/site-packages (2.0.2)\n",
      "Requirement already satisfied: numpy>=1.7.1 in /media/bs/data/projects/0_moje_portfolio/eiti/eiti/lib/python3.6/site-packages (from matplotlib) (1.13.3)\n",
      "Requirement already satisfied: cycler>=0.10 in /media/bs/data/projects/0_moje_portfolio/eiti/eiti/lib/python3.6/site-packages (from matplotlib) (0.10.0)\n",
      "Requirement already satisfied: pyparsing!=2.0.0,!=2.0.4,!=2.1.2,!=2.1.6,>=1.5.6 in /media/bs/data/projects/0_moje_portfolio/eiti/eiti/lib/python3.6/site-packages (from matplotlib) (2.3.0)\n",
      "Requirement already satisfied: six>=1.10 in /media/bs/data/projects/0_moje_portfolio/eiti/eiti/lib/python3.6/site-packages (from matplotlib) (1.11.0)\n",
      "Requirement already satisfied: pytz in /media/bs/data/projects/0_moje_portfolio/eiti/eiti/lib/python3.6/site-packages (from matplotlib) (2018.9)\n",
      "Requirement already satisfied: python-dateutil in /media/bs/data/projects/0_moje_portfolio/eiti/eiti/lib/python3.6/site-packages (from matplotlib) (2.7.5)\n",
      "Requirement already satisfied: pandas in /media/bs/data/projects/0_moje_portfolio/eiti/eiti/lib/python3.6/site-packages (0.20.3)\n",
      "Requirement already satisfied: numpy>=1.7.0 in /media/bs/data/projects/0_moje_portfolio/eiti/eiti/lib/python3.6/site-packages (from pandas) (1.13.3)\n",
      "Requirement already satisfied: python-dateutil>=2 in /media/bs/data/projects/0_moje_portfolio/eiti/eiti/lib/python3.6/site-packages (from pandas) (2.7.5)\n",
      "Requirement already satisfied: pytz>=2011k in /media/bs/data/projects/0_moje_portfolio/eiti/eiti/lib/python3.6/site-packages (from pandas) (2018.9)\n",
      "Requirement already satisfied: six>=1.5 in /media/bs/data/projects/0_moje_portfolio/eiti/eiti/lib/python3.6/site-packages (from python-dateutil>=2->pandas) (1.11.0)\n",
      "Requirement already satisfied: numexpr in /media/bs/data/projects/0_moje_portfolio/eiti/eiti/lib/python3.6/site-packages (2.6.4)\n",
      "Requirement already satisfied: numpy>=1.7 in /media/bs/data/projects/0_moje_portfolio/eiti/eiti/lib/python3.6/site-packages (from numexpr) (1.13.3)\n",
      "Requirement already satisfied: numpy in /media/bs/data/projects/0_moje_portfolio/eiti/eiti/lib/python3.6/site-packages (1.13.3)\n",
      "Requirement already satisfied: scikit_learn in /media/bs/data/projects/0_moje_portfolio/eiti/eiti/lib/python3.6/site-packages (0.19.1)\n"
     ]
    }
   ],
   "source": [
    "!pip install pathos\n",
    "!pip install tqdm\n",
    "!pip install matplotlib\n",
    "!pip install pandas\n",
    "!pip install numexpr\n",
    "!pip install numpy\n",
    "!pip install scikit_learn"
   ]
  },
  {
   "cell_type": "markdown",
   "metadata": {
    "colab_type": "text",
    "id": "-pVhOfzLx9us"
   },
   "source": [
    "## test: czy jupyter widzi nasz moduł?"
   ]
  },
  {
   "cell_type": "code",
   "execution_count": 46,
   "metadata": {},
   "outputs": [
    {
     "name": "stderr",
     "output_type": "stream",
     "text": [
      "\r",
      "Generation:   0%|          | 0/5 [00:00<?, ?it/s]"
     ]
    },
    {
     "name": "stdout",
     "output_type": "stream",
     "text": [
      "Base score: -0.13287005762377702\n",
      "\n"
     ]
    },
    {
     "name": "stderr",
     "output_type": "stream",
     "text": [
      "                                                         \r"
     ]
    },
    {
     "name": "stdout",
     "output_type": "stream",
     "text": [
      "gen: 5\n",
      "avg time per gen: 0.4\n",
      "Best params:\n",
      "C: 0.8901398886123515\n",
      "Gamma: 0.38830015971520454\n",
      "neg_log_loss: -0.12005693848167892\n",
      "\n"
     ]
    },
    {
     "data": {
      "image/png": "[encoded data removed]",
      "text/plain": [
       "<Figure size 432x288 with 1 Axes>"
      ]
     },
     "metadata": {
      "needs_background": "light"
     },
     "output_type": "display_data"
    }
   ],
   "source": [
    "from ga.evoalgo_svm import EvoAlgo\n",
    "\n",
    "from sklearn.datasets import load_iris\n",
    "from sklearn.svm import SVC\n",
    "\n",
    "clf = SVC(kernel='rbf', probability=True, C=1.0, gamma='auto')\n",
    "ea = EvoAlgo(clf, pop_members=60, max_iter=5)\n",
    "iris = load_iris()\n",
    "ea.fit(iris.data, iris.target)\n",
    "\n",
    "ea.get_params()\n",
    "ea.plot()"
   ]
  },
  {
   "cell_type": "markdown",
   "metadata": {},
   "source": [
    "## Ładowanie danych"
   ]
  },
  {
   "cell_type": "code",
   "execution_count": 44,
   "metadata": {},
   "outputs": [
    {
     "name": "stdout",
     "output_type": "stream",
     "text": [
      "(102, 37)\n",
      "[-60, -50, -40, -30, -20, -10, 0, 10, 20, 30, 40, 50, 60]\n",
      "Train:\n",
      "[ 0.02466793  0.02466793  0.2019061   0.02466793  0.02466793 -0.20191195\n",
      "  0.02466793  0.02466793  0.20191055  0.00071994  0.04210526  0.16868381\n",
      "  0.06803131  0.08515815 -0.25231478  0.09891435  0.10382514  0.25722737\n",
      "  0.16972814  0.21500722  0.17168869  0.25104022  0.25801953 -0.2024012\n",
      "  0.26880223  0.26564673  0.20206982  0.00071994  0.04210526  0.16868384\n",
      "  0.06803131  0.08515815 -0.25231478  0.09891435  0.10382514  0.25722738]\n",
      "-10.0\n",
      "\n",
      "Test:\n",
      "[ 0.12333966  0.12144213  0.29813691  0.12333966  0.12144213 -0.29814314\n",
      "  0.12333966  0.12144213  0.29814163  0.06983441  0.10789474  0.23810495\n",
      "  0.13064419  0.14841849 -0.32388161  0.16164053  0.16575592  0.3294971\n",
      "  0.24467303  0.28860029  0.26601474  0.32316227  0.32914923 -0.29859227\n",
      "  0.33983287  0.33657858  0.29829273  0.06983441  0.10789474  0.23810498\n",
      "  0.13064419  0.14841849 -0.32388162  0.16164053  0.16575592  0.3294971 ]\n",
      "10.0\n"
     ]
    }
   ],
   "source": [
    "import numpy as np\n",
    "from collections import OrderedDict\n",
    "\n",
    "\n",
    "class DataSet:\n",
    "    def __init__(self, data, target):\n",
    "        self.data = data\n",
    "        self.target = target\n",
    "\n",
    "\n",
    "def load_data(name, concatenate_classes=False):\n",
    "    filename = \"./../data/rs_training_\" + name + \"_no_headers.txt\"\n",
    "    data = np.loadtxt(filename)\n",
    "    train = DataSet(data[:, :np.shape(data)[1] - 1], data[:, np.shape(data)[1] - 1])\n",
    "        \n",
    "    filename = \"./../data/rs_testing_\" + name + \"_no_headers.txt\"\n",
    "    data = np.loadtxt(filename)\n",
    "    print(np.shape(data))\n",
    "    test = DataSet(data[:, :np.shape(data)[1] - 1], data[:, np.shape(data)[1] - 1])\n",
    "    \n",
    "    # przeksztalcenie danych do zakresu [-1,1]\n",
    "    max_train = np.amax(train.data, axis=0)\n",
    "    min_train = np.amin(train.data, axis=0)\n",
    "    train.data = 2 * (train.data - min_train) / (max_train - min_train) - 1\n",
    "    test.data = 2 * (test.data - min_train) / (max_train - min_train) - 1\n",
    "    \n",
    "    if concatenate_classes == True:\n",
    "        train.target = (np.around(train.target / 10)) * 10\n",
    "        test.target = (np.around(test.target / 10)) * 10\n",
    "    \n",
    "    target_list = sorted(list(OrderedDict.fromkeys(train.target)))\n",
    "    print(list(map(int, target_list)))\n",
    "    \n",
    "    return train, test\n",
    "  \n",
    "\n",
    "train, test = load_data('tani', True)\n",
    "print('Train:')\n",
    "print(train.data[5, :])\n",
    "print(train.target[5])\n",
    "print('\\nTest:')\n",
    "print(test.data[5, :])\n",
    "print(test.target[5])"
   ]
  },
  {
   "cell_type": "markdown",
   "metadata": {},
   "source": [
    "## Testowanie programu"
   ]
  },
  {
   "cell_type": "code",
   "execution_count": 55,
   "metadata": {},
   "outputs": [
    {
     "name": "stderr",
     "output_type": "stream",
     "text": [
      "                              "
     ]
    },
    {
     "name": "stdout",
     "output_type": "stream",
     "text": [
      "(102, 37)\n",
      "[-60, -50, -40, -30, -20, -10, 0, 10, 20, 30, 40, 50, 60]\n",
      "Base score: -2.4480663979615747\n",
      "\n",
      "gen: 0\n"
     ]
    },
    {
     "name": "stderr",
     "output_type": "stream",
     "text": [
      "\r"
     ]
    },
    {
     "ename": "ZeroDivisionError",
     "evalue": "division by zero",
     "output_type": "error",
     "traceback": [
      "\u001b[0;31m---------------------------------------------------------------------------\u001b[0m",
      "\u001b[0;31mZeroDivisionError\u001b[0m                         Traceback (most recent call last)",
      "\u001b[0;32m<ipython-input-55-8d0694dc0378>\u001b[0m in \u001b[0;36m<module>\u001b[0;34m()\u001b[0m\n\u001b[1;32m     26\u001b[0m \u001b[0mpop_members\u001b[0m \u001b[0;34m=\u001b[0m \u001b[0;34m[\u001b[0m\u001b[0;36m10\u001b[0m\u001b[0;34m,\u001b[0m \u001b[0;36m20\u001b[0m\u001b[0;34m,\u001b[0m \u001b[0;36m50\u001b[0m\u001b[0;34m,\u001b[0m \u001b[0;36m100\u001b[0m\u001b[0;34m,\u001b[0m \u001b[0;36m200\u001b[0m\u001b[0;34m]\u001b[0m\u001b[0;34m\u001b[0m\u001b[0m\n\u001b[1;32m     27\u001b[0m \u001b[0mmax_iter\u001b[0m \u001b[0;34m=\u001b[0m \u001b[0;34m[\u001b[0m\u001b[0;36m1\u001b[0m\u001b[0;34m,\u001b[0m \u001b[0;36m5\u001b[0m\u001b[0;34m,\u001b[0m \u001b[0;36m10\u001b[0m\u001b[0;34m,\u001b[0m \u001b[0;36m15\u001b[0m\u001b[0;34m,\u001b[0m \u001b[0;36m20\u001b[0m\u001b[0;34m]\u001b[0m\u001b[0;34m\u001b[0m\u001b[0m\n\u001b[0;32m---> 28\u001b[0;31m \u001b[0mC\u001b[0m\u001b[0;34m,\u001b[0m \u001b[0mgamma\u001b[0m\u001b[0;34m,\u001b[0m \u001b[0mlog_loss\u001b[0m \u001b[0;34m=\u001b[0m \u001b[0mtest_EA\u001b[0m\u001b[0;34m(\u001b[0m\u001b[0mtrain\u001b[0m\u001b[0;34m,\u001b[0m \u001b[0mtest\u001b[0m\u001b[0;34m,\u001b[0m \u001b[0mpop_members\u001b[0m\u001b[0;34m,\u001b[0m \u001b[0mmax_iter\u001b[0m\u001b[0;34m)\u001b[0m\u001b[0;34m\u001b[0m\u001b[0m\n\u001b[0m\u001b[1;32m     29\u001b[0m \u001b[0mprint\u001b[0m\u001b[0;34m(\u001b[0m\u001b[0;34m'\\nWyniki na zbiorze testowym:\\n'\u001b[0m\u001b[0;34m,\u001b[0m \u001b[0mC\u001b[0m\u001b[0;34m,\u001b[0m \u001b[0mgamma\u001b[0m\u001b[0;34m,\u001b[0m \u001b[0mlog_loss\u001b[0m\u001b[0;34m)\u001b[0m\u001b[0;34m\u001b[0m\u001b[0m\n",
      "\u001b[0;32m<ipython-input-55-8d0694dc0378>\u001b[0m in \u001b[0;36mtest_EA\u001b[0;34m(train, test, pop_members, max_iter)\u001b[0m\n\u001b[1;32m     12\u001b[0m         \u001b[0;32mfor\u001b[0m \u001b[0mit\u001b[0m \u001b[0;32min\u001b[0m \u001b[0mrange\u001b[0m\u001b[0;34m(\u001b[0m\u001b[0mnp\u001b[0m\u001b[0;34m.\u001b[0m\u001b[0mshape\u001b[0m\u001b[0;34m(\u001b[0m\u001b[0mmax_iter\u001b[0m\u001b[0;34m)\u001b[0m\u001b[0;34m[\u001b[0m\u001b[0;36m0\u001b[0m\u001b[0;34m]\u001b[0m\u001b[0;34m)\u001b[0m\u001b[0;34m:\u001b[0m\u001b[0;34m\u001b[0m\u001b[0m\n\u001b[1;32m     13\u001b[0m             \u001b[0mea\u001b[0m \u001b[0;34m=\u001b[0m \u001b[0mEvoAlgo\u001b[0m\u001b[0;34m(\u001b[0m\u001b[0mclf_train\u001b[0m\u001b[0;34m,\u001b[0m \u001b[0mpop_members\u001b[0m\u001b[0;34m=\u001b[0m\u001b[0mpop\u001b[0m\u001b[0;34m,\u001b[0m \u001b[0mmax_iter\u001b[0m\u001b[0;34m=\u001b[0m\u001b[0mit\u001b[0m\u001b[0;34m)\u001b[0m\u001b[0;34m\u001b[0m\u001b[0m\n\u001b[0;32m---> 14\u001b[0;31m             \u001b[0mea\u001b[0m\u001b[0;34m.\u001b[0m\u001b[0mfit\u001b[0m\u001b[0;34m(\u001b[0m\u001b[0mtrain\u001b[0m\u001b[0;34m.\u001b[0m\u001b[0mdata\u001b[0m\u001b[0;34m,\u001b[0m \u001b[0mtrain\u001b[0m\u001b[0;34m.\u001b[0m\u001b[0mtarget\u001b[0m\u001b[0;34m)\u001b[0m\u001b[0;34m\u001b[0m\u001b[0m\n\u001b[0m\u001b[1;32m     15\u001b[0m             \u001b[0mC\u001b[0m\u001b[0;34m[\u001b[0m\u001b[0mpop\u001b[0m\u001b[0;34m,\u001b[0m \u001b[0mit\u001b[0m\u001b[0;34m]\u001b[0m\u001b[0;34m,\u001b[0m \u001b[0mgamma\u001b[0m\u001b[0;34m[\u001b[0m\u001b[0mpop\u001b[0m\u001b[0;34m,\u001b[0m \u001b[0mit\u001b[0m\u001b[0;34m]\u001b[0m \u001b[0;34m=\u001b[0m \u001b[0mea\u001b[0m\u001b[0;34m.\u001b[0m\u001b[0mget_params\u001b[0m\u001b[0;34m(\u001b[0m\u001b[0;34m)\u001b[0m\u001b[0;34m\u001b[0m\u001b[0m\n\u001b[1;32m     16\u001b[0m             \u001b[0mea\u001b[0m\u001b[0;34m.\u001b[0m\u001b[0mplot\u001b[0m\u001b[0;34m(\u001b[0m\u001b[0;34m)\u001b[0m\u001b[0;34m\u001b[0m\u001b[0m\n",
      "\u001b[0;32m~/Documents/2. sem mgr/WMH/18z_wmh/src/ga/evoalgo_svm.py\u001b[0m in \u001b[0;36mfit\u001b[0;34m(self, X, y)\u001b[0m\n\u001b[1;32m    247\u001b[0m         \u001b[0;32melse\u001b[0m\u001b[0;34m:\u001b[0m\u001b[0;34m\u001b[0m\u001b[0m\n\u001b[1;32m    248\u001b[0m             \u001b[0mprint\u001b[0m\u001b[0;34m(\u001b[0m\u001b[0;34m'gen: {}'\u001b[0m\u001b[0;34m.\u001b[0m\u001b[0mformat\u001b[0m\u001b[0;34m(\u001b[0m\u001b[0mgen\u001b[0m\u001b[0;34m)\u001b[0m\u001b[0;34m)\u001b[0m\u001b[0;34m\u001b[0m\u001b[0m\n\u001b[0;32m--> 249\u001b[0;31m             \u001b[0mprint\u001b[0m\u001b[0;34m(\u001b[0m\u001b[0;34m'avg time per gen: {0:0.1f}'\u001b[0m\u001b[0;34m.\u001b[0m\u001b[0mformat\u001b[0m\u001b[0;34m(\u001b[0m\u001b[0mtotal_time\u001b[0m\u001b[0;34m/\u001b[0m\u001b[0mgen\u001b[0m\u001b[0;34m)\u001b[0m\u001b[0;34m)\u001b[0m\u001b[0;34m\u001b[0m\u001b[0m\n\u001b[0m\u001b[1;32m    250\u001b[0m \u001b[0;34m\u001b[0m\u001b[0m\n\u001b[1;32m    251\u001b[0m     \u001b[0;32mdef\u001b[0m \u001b[0mget_params\u001b[0m\u001b[0;34m(\u001b[0m\u001b[0mself\u001b[0m\u001b[0;34m,\u001b[0m \u001b[0mind\u001b[0m\u001b[0;34m=\u001b[0m\u001b[0;34m'best'\u001b[0m\u001b[0;34m)\u001b[0m\u001b[0;34m:\u001b[0m\u001b[0;34m\u001b[0m\u001b[0m\n",
      "\u001b[0;31mZeroDivisionError\u001b[0m: division by zero"
     ]
    }
   ],
   "source": [
    "from ga.evoalgo_svm import EvoAlgo\n",
    "\n",
    "from sklearn.svm import SVC\n",
    "\n",
    "\n",
    "def test_EA(train, test, pop_members, max_iter):\n",
    "    C = np.zeros((np.shape(pop_members)[0], np.shape(max_iter)[0]))\n",
    "    gamma = np.zeros((np.shape(pop_members)[0], np.shape(max_iter)[0]))\n",
    "    log_loss = np.zeros((np.shape(pop_members)[0], np.shape(max_iter)[0]))\n",
    "    clf_train = SVC(kernel='rbf', probability=True, C=1.0, gamma='auto')\n",
    "    for pop in range(np.shape(pop_members)[0]):\n",
    "        for it in range(np.shape(max_iter)[0]):\n",
    "            ea = EvoAlgo(clf_train, pop_members=pop, max_iter=it)\n",
    "            ea.fit(train.data, train.target)\n",
    "            C[pop, it], gamma[pop, it] = ea.get_params() #[TO DO] dopisać do get_params return\n",
    "            ea.plot()\n",
    "            \n",
    "            clf_test = SVC(kernel='rbf', probability=True, C=C[pop, it], gamma=gamma[pop, it])\n",
    "            y_pred = clf_test.predict(test.data)\n",
    "            log_loss[pop, it] = sklearn.metrics.log_loss(test.target, y_pred)\n",
    "    \n",
    "    return C, gamma, log_loss\n",
    "\n",
    "\n",
    "train, test = load_data('drogi', True)\n",
    "pop_members = [10, 20, 50, 100, 200]\n",
    "max_iter = [1, 5, 10, 15, 20]\n",
    "C, gamma, log_loss = test_EA(train, test, pop_members, max_iter)\n",
    "print('\\nWyniki na zbiorze testowym:\\n', C, gamma, log_loss)"
   ]
  },
  {
   "cell_type": "markdown",
   "metadata": {
    "colab_type": "text",
    "id": "K-NVg7RjyeTk"
   },
   "source": []
  },
  {
   "cell_type": "markdown",
   "metadata": {
    "colab_type": "text",
    "id": "8QAWNjizy_3O"
   },
   "source": [
    "## Open In Colab Badge\n",
    "\n",
    "Anybody can open a copy of any github-hosted notebook within Colab. To make it easier to give people access to live views of GitHub-hosted notebooks,\n",
    "colab provides a [shields.io](http://shields.io/)-style badge, which appears as follows:\n",
    "\n",
    "[![Open In Colab](https://colab.research.google.com/assets/colab-badge.svg)](https://colab.research.google.com/github/googlecolab/colabtools/blob/master/notebooks/colab-github-demo.ipynb)\n",
    "\n",
    "The markdown for the above badge is the following:\n",
    "\n",
    "```markdown\n",
    "[![Open In Colab](https://colab.research.google.com/assets/colab-badge.svg)](https://colab.research.google.com/github/googlecolab/colabtools/blob/master/notebooks/colab-github-demo.ipynb)\n",
    "```\n",
    "\n",
    "The HTML equivalent is:\n",
    "\n",
    "```HTML\n",
    "<a href=\"https://colab.research.google.com/github/googlecolab/colabtools/blob/master/notebooks/colab-github-demo.ipynb\">\n",
    "  <img src=\"https://colab.research.google.com/assets/colab-badge.svg\" alt=\"Open In Colab\"/>\n",
    "</a>\n",
    "```\n",
    "\n",
    "Remember to replace the notebook URL in this template with the notebook you want to link to."
   ]
  },
  {
   "cell_type": "code",
   "execution_count": null,
   "metadata": {},
   "outputs": [],
   "source": []
  }
 ],
 "metadata": {
  "colab": {
   "collapsed_sections": [],
   "name": "colab-github-demo.ipynb",
   "provenance": [],
   "version": "0.3.2"
  },
  "kernelspec": {
   "display_name": "Python 3",
   "language": "python",
   "name": "python3"
  },
  "language_info": {
   "codemirror_mode": {
    "name": "ipython",
    "version": 3
   },
   "file_extension": ".py",
   "mimetype": "text/x-python",
   "name": "python",
   "nbconvert_exporter": "python",
   "pygments_lexer": "ipython3",
   "version": "3.7.0"
  }
 },
 "nbformat": 4,
 "nbformat_minor": 1
}
